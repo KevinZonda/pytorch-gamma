{
 "cells": [
  {
   "cell_type": "code",
   "execution_count": 1,
   "metadata": {},
   "outputs": [
    {
     "data": {
      "text/html": [
       "<div>\n",
       "<style scoped>\n",
       "    .dataframe tbody tr th:only-of-type {\n",
       "        vertical-align: middle;\n",
       "    }\n",
       "\n",
       "    .dataframe tbody tr th {\n",
       "        vertical-align: top;\n",
       "    }\n",
       "\n",
       "    .dataframe thead th {\n",
       "        text-align: right;\n",
       "    }\n",
       "</style>\n",
       "<table border=\"1\" class=\"dataframe\">\n",
       "  <thead>\n",
       "    <tr style=\"text-align: right;\">\n",
       "      <th></th>\n",
       "      <th>x0</th>\n",
       "      <th>x1</th>\n",
       "      <th>x2</th>\n",
       "      <th>y</th>\n",
       "    </tr>\n",
       "  </thead>\n",
       "  <tbody>\n",
       "    <tr>\n",
       "      <th>0</th>\n",
       "      <td>0.066034</td>\n",
       "      <td>0.879702</td>\n",
       "      <td>0.829733</td>\n",
       "      <td>41.769808</td>\n",
       "    </tr>\n",
       "    <tr>\n",
       "      <th>1</th>\n",
       "      <td>0.513228</td>\n",
       "      <td>0.356076</td>\n",
       "      <td>0.790343</td>\n",
       "      <td>35.393249</td>\n",
       "    </tr>\n",
       "    <tr>\n",
       "      <th>2</th>\n",
       "      <td>0.598108</td>\n",
       "      <td>0.919958</td>\n",
       "      <td>0.524912</td>\n",
       "      <td>38.840649</td>\n",
       "    </tr>\n",
       "    <tr>\n",
       "      <th>3</th>\n",
       "      <td>0.476180</td>\n",
       "      <td>0.397580</td>\n",
       "      <td>0.852777</td>\n",
       "      <td>38.574305</td>\n",
       "    </tr>\n",
       "    <tr>\n",
       "      <th>4</th>\n",
       "      <td>0.763875</td>\n",
       "      <td>0.100939</td>\n",
       "      <td>0.619018</td>\n",
       "      <td>28.202262</td>\n",
       "    </tr>\n",
       "    <tr>\n",
       "      <th>...</th>\n",
       "      <td>...</td>\n",
       "      <td>...</td>\n",
       "      <td>...</td>\n",
       "      <td>...</td>\n",
       "    </tr>\n",
       "    <tr>\n",
       "      <th>995</th>\n",
       "      <td>0.883523</td>\n",
       "      <td>0.140052</td>\n",
       "      <td>0.268641</td>\n",
       "      <td>22.108306</td>\n",
       "    </tr>\n",
       "    <tr>\n",
       "      <th>996</th>\n",
       "      <td>0.568823</td>\n",
       "      <td>0.521391</td>\n",
       "      <td>0.708904</td>\n",
       "      <td>35.547254</td>\n",
       "    </tr>\n",
       "    <tr>\n",
       "      <th>997</th>\n",
       "      <td>0.365352</td>\n",
       "      <td>0.806447</td>\n",
       "      <td>0.075812</td>\n",
       "      <td>27.152123</td>\n",
       "    </tr>\n",
       "    <tr>\n",
       "      <th>998</th>\n",
       "      <td>0.269633</td>\n",
       "      <td>0.830235</td>\n",
       "      <td>0.893871</td>\n",
       "      <td>43.013813</td>\n",
       "    </tr>\n",
       "    <tr>\n",
       "      <th>999</th>\n",
       "      <td>0.277987</td>\n",
       "      <td>0.073604</td>\n",
       "      <td>0.135679</td>\n",
       "      <td>17.626571</td>\n",
       "    </tr>\n",
       "  </tbody>\n",
       "</table>\n",
       "<p>1000 rows × 4 columns</p>\n",
       "</div>"
      ],
      "text/plain": [
       "           x0        x1        x2          y\n",
       "0    0.066034  0.879702  0.829733  41.769808\n",
       "1    0.513228  0.356076  0.790343  35.393249\n",
       "2    0.598108  0.919958  0.524912  38.840649\n",
       "3    0.476180  0.397580  0.852777  38.574305\n",
       "4    0.763875  0.100939  0.619018  28.202262\n",
       "..        ...       ...       ...        ...\n",
       "995  0.883523  0.140052  0.268641  22.108306\n",
       "996  0.568823  0.521391  0.708904  35.547254\n",
       "997  0.365352  0.806447  0.075812  27.152123\n",
       "998  0.269633  0.830235  0.893871  43.013813\n",
       "999  0.277987  0.073604  0.135679  17.626571\n",
       "\n",
       "[1000 rows x 4 columns]"
      ]
     },
     "execution_count": 1,
     "metadata": {},
     "output_type": "execute_result"
    }
   ],
   "source": [
    "import pandas as pd\n",
    "dataset = pd.read_csv('linear_reg.csv')\n",
    "dataset"
   ]
  },
  {
   "cell_type": "code",
   "execution_count": 2,
   "metadata": {},
   "outputs": [],
   "source": [
    "import numpy as np\n",
    "\n",
    "y = np.array(dataset['y']).reshape(-1, 1).astype(np.float32)\n",
    "X = np.array(dataset.drop('y', axis=1)).astype(np.float32)"
   ]
  },
  {
   "cell_type": "code",
   "execution_count": 3,
   "metadata": {},
   "outputs": [
    {
     "data": {
      "text/plain": [
       "((1000, 3), (1000, 1))"
      ]
     },
     "execution_count": 3,
     "metadata": {},
     "output_type": "execute_result"
    }
   ],
   "source": [
    "X.shape, y.shape"
   ]
  },
  {
   "cell_type": "code",
   "execution_count": 4,
   "metadata": {},
   "outputs": [],
   "source": [
    "import gamma.modules as gm\n",
    "\n",
    "model = gm.shape_transform_1d(X.shape[1], 1)"
   ]
  },
  {
   "cell_type": "code",
   "execution_count": 5,
   "metadata": {},
   "outputs": [],
   "source": [
    "import gamma.trainer as gt\n",
    "\n",
    "trainer = gt.Trainer(model, 'adam', lr=0.01, loss_fn='mse')"
   ]
  },
  {
   "cell_type": "code",
   "execution_count": 6,
   "metadata": {},
   "outputs": [
    {
     "name": "stdout",
     "output_type": "stream",
     "text": [
      "Epoch 1/100 - train_loss: 1028.6828 - val_loss: 1020.5289\n",
      "Epoch 2/100 - train_loss: 988.9259 - val_loss: 980.7345\n",
      "Epoch 3/100 - train_loss: 950.2442 - val_loss: 942.0704\n",
      "Epoch 4/100 - train_loss: 912.6859 - val_loss: 904.5542\n",
      "Epoch 5/100 - train_loss: 876.2528 - val_loss: 868.1749\n",
      "Epoch 6/100 - train_loss: 840.9302 - val_loss: 832.9148\n",
      "Epoch 7/100 - train_loss: 806.6995 - val_loss: 798.7536\n",
      "Epoch 8/100 - train_loss: 773.5406 - val_loss: 765.6704\n",
      "Epoch 9/100 - train_loss: 741.4327 - val_loss: 733.6440\n",
      "Epoch 10/100 - train_loss: 710.3548 - val_loss: 702.6530\n",
      "Epoch 11/100 - train_loss: 680.2859 - val_loss: 672.6759\n",
      "Epoch 12/100 - train_loss: 651.2049 - val_loss: 643.6915\n",
      "Epoch 13/100 - train_loss: 623.0910 - val_loss: 615.6785\n",
      "Epoch 14/100 - train_loss: 595.9233 - val_loss: 588.6157\n",
      "Epoch 15/100 - train_loss: 569.6811 - val_loss: 562.4824\n",
      "Epoch 16/100 - train_loss: 544.3440 - val_loss: 537.2576\n",
      "Epoch 17/100 - train_loss: 519.8914 - val_loss: 512.9207\n",
      "Epoch 18/100 - train_loss: 496.3034 - val_loss: 489.4514\n",
      "Epoch 19/100 - train_loss: 473.5598 - val_loss: 466.8293\n",
      "Epoch 20/100 - train_loss: 451.6408 - val_loss: 445.0343\n",
      "Epoch 21/100 - train_loss: 430.5266 - val_loss: 424.0466\n",
      "Epoch 22/100 - train_loss: 410.1978 - val_loss: 403.8463\n",
      "Epoch 23/100 - train_loss: 390.6351 - val_loss: 384.4139\n",
      "Epoch 24/100 - train_loss: 371.8193 - val_loss: 365.7300\n",
      "Epoch 25/100 - train_loss: 353.7313 - val_loss: 347.7755\n",
      "Epoch 26/100 - train_loss: 336.3525 - val_loss: 330.5313\n",
      "Epoch 27/100 - train_loss: 319.6643 - val_loss: 313.9787\n",
      "Epoch 28/100 - train_loss: 303.6482 - val_loss: 298.0990\n",
      "Epoch 29/100 - train_loss: 288.2861 - val_loss: 282.8738\n",
      "Epoch 30/100 - train_loss: 273.5599 - val_loss: 268.2849\n",
      "Epoch 31/100 - train_loss: 259.4517 - val_loss: 254.3143\n",
      "Epoch 32/100 - train_loss: 245.9440 - val_loss: 240.9441\n",
      "Epoch 33/100 - train_loss: 233.0194 - val_loss: 228.1568\n",
      "Epoch 34/100 - train_loss: 220.6605 - val_loss: 215.9348\n",
      "Epoch 35/100 - train_loss: 208.8503 - val_loss: 204.2610\n",
      "Epoch 36/100 - train_loss: 197.5721 - val_loss: 193.1185\n",
      "Epoch 37/100 - train_loss: 186.8092 - val_loss: 182.4903\n",
      "Epoch 38/100 - train_loss: 176.5452 - val_loss: 172.3601\n",
      "Epoch 39/100 - train_loss: 166.7640 - val_loss: 162.7114\n",
      "Epoch 40/100 - train_loss: 157.4496 - val_loss: 153.5282\n",
      "Epoch 41/100 - train_loss: 148.5863 - val_loss: 144.7947\n",
      "Epoch 42/100 - train_loss: 140.1587 - val_loss: 136.4952\n",
      "Epoch 43/100 - train_loss: 132.1514 - val_loss: 128.6143\n",
      "Epoch 44/100 - train_loss: 124.5495 - val_loss: 121.1370\n",
      "Epoch 45/100 - train_loss: 117.3383 - val_loss: 114.0482\n",
      "Epoch 46/100 - train_loss: 110.5031 - val_loss: 107.3335\n",
      "Epoch 47/100 - train_loss: 104.0299 - val_loss: 100.9785\n",
      "Epoch 48/100 - train_loss: 97.9044 - val_loss: 94.9691\n",
      "Epoch 49/100 - train_loss: 92.1131 - val_loss: 89.2914\n",
      "Epoch 50/100 - train_loss: 86.6425 - val_loss: 83.9321\n",
      "Epoch 51/100 - train_loss: 81.4794 - val_loss: 78.8777\n",
      "Epoch 52/100 - train_loss: 76.6109 - val_loss: 74.1153\n",
      "Epoch 53/100 - train_loss: 72.0244 - val_loss: 69.6322\n",
      "Epoch 54/100 - train_loss: 67.7074 - val_loss: 65.4161\n",
      "Epoch 55/100 - train_loss: 63.6481 - val_loss: 61.4549\n",
      "Epoch 56/100 - train_loss: 59.8346 - val_loss: 57.7367\n",
      "Epoch 57/100 - train_loss: 56.2555 - val_loss: 54.2502\n",
      "Epoch 58/100 - train_loss: 52.8996 - val_loss: 50.9841\n",
      "Epoch 59/100 - train_loss: 49.7562 - val_loss: 47.9276\n",
      "Epoch 60/100 - train_loss: 46.8146 - val_loss: 45.0701\n",
      "Epoch 61/100 - train_loss: 44.0646 - val_loss: 42.4014\n",
      "Epoch 62/100 - train_loss: 41.4963 - val_loss: 39.9116\n",
      "Epoch 63/100 - train_loss: 39.1002 - val_loss: 37.5911\n",
      "Epoch 64/100 - train_loss: 36.8668 - val_loss: 35.4306\n",
      "Epoch 65/100 - train_loss: 34.7873 - val_loss: 33.4213\n",
      "Epoch 66/100 - train_loss: 32.8530 - val_loss: 31.5543\n",
      "Epoch 67/100 - train_loss: 31.0556 - val_loss: 29.8215\n",
      "Epoch 68/100 - train_loss: 29.3869 - val_loss: 28.2148\n",
      "Epoch 69/100 - train_loss: 27.8393 - val_loss: 26.7266\n",
      "Epoch 70/100 - train_loss: 26.4054 - val_loss: 25.3494\n",
      "Epoch 71/100 - train_loss: 25.0780 - val_loss: 24.0763\n",
      "Epoch 72/100 - train_loss: 23.8504 - val_loss: 22.9005\n",
      "Epoch 73/100 - train_loss: 22.7160 - val_loss: 21.8155\n",
      "Epoch 74/100 - train_loss: 21.6687 - val_loss: 20.8152\n",
      "Epoch 75/100 - train_loss: 20.7026 - val_loss: 19.8938\n",
      "Epoch 76/100 - train_loss: 19.8119 - val_loss: 19.0457\n",
      "Epoch 77/100 - train_loss: 18.9915 - val_loss: 18.2656\n",
      "Epoch 78/100 - train_loss: 18.2361 - val_loss: 17.5485\n",
      "Epoch 79/100 - train_loss: 17.5410 - val_loss: 16.8898\n",
      "Epoch 80/100 - train_loss: 16.9017 - val_loss: 16.2848\n",
      "Epoch 81/100 - train_loss: 16.3139 - val_loss: 15.7295\n",
      "Epoch 82/100 - train_loss: 15.7736 - val_loss: 15.2199\n",
      "Epoch 83/100 - train_loss: 15.2769 - val_loss: 14.7522\n",
      "Epoch 84/100 - train_loss: 14.8204 - val_loss: 14.3230\n",
      "Epoch 85/100 - train_loss: 14.4006 - val_loss: 13.9290\n",
      "Epoch 86/100 - train_loss: 14.0144 - val_loss: 13.5671\n",
      "Epoch 87/100 - train_loss: 13.6590 - val_loss: 13.2346\n",
      "Epoch 88/100 - train_loss: 13.3317 - val_loss: 12.9288\n",
      "Epoch 89/100 - train_loss: 13.0299 - val_loss: 12.6472\n",
      "Epoch 90/100 - train_loss: 12.7512 - val_loss: 12.3875\n",
      "Epoch 91/100 - train_loss: 12.4936 - val_loss: 12.1477\n",
      "Epoch 92/100 - train_loss: 12.2550 - val_loss: 11.9258\n",
      "Epoch 93/100 - train_loss: 12.0335 - val_loss: 11.7201\n",
      "Epoch 94/100 - train_loss: 11.8275 - val_loss: 11.5288\n",
      "Epoch 95/100 - train_loss: 11.6354 - val_loss: 11.3505\n",
      "Epoch 96/100 - train_loss: 11.4558 - val_loss: 11.1838\n",
      "Epoch 97/100 - train_loss: 11.2873 - val_loss: 11.0275\n",
      "Epoch 98/100 - train_loss: 11.1288 - val_loss: 10.8804\n",
      "Epoch 99/100 - train_loss: 10.9791 - val_loss: 10.7415\n",
      "Epoch 100/100 - train_loss: 10.8374 - val_loss: 10.6097\n"
     ]
    }
   ],
   "source": [
    "history = trainer.train(X, y, split_val=True, epochs=100, batch_size=32)"
   ]
  },
  {
   "cell_type": "code",
   "execution_count": 7,
   "metadata": {},
   "outputs": [
    {
     "data": {
      "image/png": "[encoded data removed]",
      "text/plain": [
       "<Figure size 1000x600 with 1 Axes>"
      ]
     },
     "metadata": {},
     "output_type": "display_data"
    },
    {
     "data": {
      "text/plain": [
       "<Figure size 640x480 with 0 Axes>"
      ]
     },
     "execution_count": 7,
     "metadata": {},
     "output_type": "execute_result"
    },
    {
     "data": {
      "text/plain": [
       "<Figure size 640x480 with 0 Axes>"
      ]
     },
     "metadata": {},
     "output_type": "display_data"
    }
   ],
   "source": [
    "from gamma import plot\n",
    "\n",
    "plot.plot_training_loss(history)"
   ]
  }
 ],
 "metadata": {
  "kernelspec": {
   "display_name": "Python 3",
   "language": "python",
   "name": "python3"
  },
  "language_info": {
   "codemirror_mode": {
    "name": "ipython",
    "version": 3
   },
   "file_extension": ".py",
   "mimetype": "text/x-python",
   "name": "python",
   "nbconvert_exporter": "python",
   "pygments_lexer": "ipython3",
   "version": "3.12.9"
  }
 },
 "nbformat": 4,
 "nbformat_minor": 2
}
