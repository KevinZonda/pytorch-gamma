{
 "cells": [
  {
   "cell_type": "code",
   "execution_count": 18,
   "metadata": {},
   "outputs": [],
   "source": [
    "import pandas as pd\n",
    "dataset = pd.read_csv('linear_reg.csv')"
   ]
  },
  {
   "cell_type": "code",
   "execution_count": 19,
   "metadata": {},
   "outputs": [
    {
     "data": {
      "text/html": [
       "<div>\n",
       "<style scoped>\n",
       "    .dataframe tbody tr th:only-of-type {\n",
       "        vertical-align: middle;\n",
       "    }\n",
       "\n",
       "    .dataframe tbody tr th {\n",
       "        vertical-align: top;\n",
       "    }\n",
       "\n",
       "    .dataframe thead th {\n",
       "        text-align: right;\n",
       "    }\n",
       "</style>\n",
       "<table border=\"1\" class=\"dataframe\">\n",
       "  <thead>\n",
       "    <tr style=\"text-align: right;\">\n",
       "      <th></th>\n",
       "      <th>x0</th>\n",
       "      <th>x1</th>\n",
       "      <th>x2</th>\n",
       "      <th>y</th>\n",
       "    </tr>\n",
       "  </thead>\n",
       "  <tbody>\n",
       "    <tr>\n",
       "      <th>0</th>\n",
       "      <td>0.066034</td>\n",
       "      <td>0.879702</td>\n",
       "      <td>0.829733</td>\n",
       "      <td>41.769808</td>\n",
       "    </tr>\n",
       "    <tr>\n",
       "      <th>1</th>\n",
       "      <td>0.513228</td>\n",
       "      <td>0.356076</td>\n",
       "      <td>0.790343</td>\n",
       "      <td>35.393249</td>\n",
       "    </tr>\n",
       "    <tr>\n",
       "      <th>2</th>\n",
       "      <td>0.598108</td>\n",
       "      <td>0.919958</td>\n",
       "      <td>0.524912</td>\n",
       "      <td>38.840649</td>\n",
       "    </tr>\n",
       "    <tr>\n",
       "      <th>3</th>\n",
       "      <td>0.476180</td>\n",
       "      <td>0.397580</td>\n",
       "      <td>0.852777</td>\n",
       "      <td>38.574305</td>\n",
       "    </tr>\n",
       "    <tr>\n",
       "      <th>4</th>\n",
       "      <td>0.763875</td>\n",
       "      <td>0.100939</td>\n",
       "      <td>0.619018</td>\n",
       "      <td>28.202262</td>\n",
       "    </tr>\n",
       "    <tr>\n",
       "      <th>...</th>\n",
       "      <td>...</td>\n",
       "      <td>...</td>\n",
       "      <td>...</td>\n",
       "      <td>...</td>\n",
       "    </tr>\n",
       "    <tr>\n",
       "      <th>995</th>\n",
       "      <td>0.883523</td>\n",
       "      <td>0.140052</td>\n",
       "      <td>0.268641</td>\n",
       "      <td>22.108306</td>\n",
       "    </tr>\n",
       "    <tr>\n",
       "      <th>996</th>\n",
       "      <td>0.568823</td>\n",
       "      <td>0.521391</td>\n",
       "      <td>0.708904</td>\n",
       "      <td>35.547254</td>\n",
       "    </tr>\n",
       "    <tr>\n",
       "      <th>997</th>\n",
       "      <td>0.365352</td>\n",
       "      <td>0.806447</td>\n",
       "      <td>0.075812</td>\n",
       "      <td>27.152123</td>\n",
       "    </tr>\n",
       "    <tr>\n",
       "      <th>998</th>\n",
       "      <td>0.269633</td>\n",
       "      <td>0.830235</td>\n",
       "      <td>0.893871</td>\n",
       "      <td>43.013813</td>\n",
       "    </tr>\n",
       "    <tr>\n",
       "      <th>999</th>\n",
       "      <td>0.277987</td>\n",
       "      <td>0.073604</td>\n",
       "      <td>0.135679</td>\n",
       "      <td>17.626571</td>\n",
       "    </tr>\n",
       "  </tbody>\n",
       "</table>\n",
       "<p>1000 rows × 4 columns</p>\n",
       "</div>"
      ],
      "text/plain": [
       "           x0        x1        x2          y\n",
       "0    0.066034  0.879702  0.829733  41.769808\n",
       "1    0.513228  0.356076  0.790343  35.393249\n",
       "2    0.598108  0.919958  0.524912  38.840649\n",
       "3    0.476180  0.397580  0.852777  38.574305\n",
       "4    0.763875  0.100939  0.619018  28.202262\n",
       "..        ...       ...       ...        ...\n",
       "995  0.883523  0.140052  0.268641  22.108306\n",
       "996  0.568823  0.521391  0.708904  35.547254\n",
       "997  0.365352  0.806447  0.075812  27.152123\n",
       "998  0.269633  0.830235  0.893871  43.013813\n",
       "999  0.277987  0.073604  0.135679  17.626571\n",
       "\n",
       "[1000 rows x 4 columns]"
      ]
     },
     "execution_count": 19,
     "metadata": {},
     "output_type": "execute_result"
    }
   ],
   "source": [
    "dataset"
   ]
  },
  {
   "cell_type": "code",
   "execution_count": 20,
   "metadata": {},
   "outputs": [],
   "source": [
    "import numpy as np\n",
    "\n",
    "y = np.array(dataset['y'])\n",
    "X = np.array(dataset.drop('y', axis=1))"
   ]
  },
  {
   "cell_type": "code",
   "execution_count": 21,
   "metadata": {},
   "outputs": [
    {
     "data": {
      "text/plain": [
       "(1000, 3)"
      ]
     },
     "execution_count": 21,
     "metadata": {},
     "output_type": "execute_result"
    }
   ],
   "source": [
    "X.shape"
   ]
  },
  {
   "cell_type": "code",
   "execution_count": 22,
   "metadata": {},
   "outputs": [],
   "source": [
    "import gamma.modules as gm\n",
    "\n",
    "model = gm.shape_transform_1d(X.shape[1], 1)"
   ]
  },
  {
   "cell_type": "code",
   "execution_count": 23,
   "metadata": {},
   "outputs": [],
   "source": [
    "import gamma.trainer as gt\n",
    "import torch\n",
    "\n",
    "optm = torch.optim.Adam(model.parameters(), lr=0.01)\n",
    "trainer = gt.Trainer(model, optm, torch.nn.MSELoss())"
   ]
  },
  {
   "cell_type": "code",
   "execution_count": 24,
   "metadata": {},
   "outputs": [
    {
     "name": "stdout",
     "output_type": "stream",
     "text": [
      "Epoch 1/100 - train_loss: 1010.9739 - val_loss: 1002.5916\n",
      "Epoch 2/100 - train_loss: 971.5516 - val_loss: 963.1420\n",
      "Epoch 3/100 - train_loss: 933.2052 - val_loss: 924.8233\n",
      "Epoch 4/100 - train_loss: 895.9825 - val_loss: 887.6524\n",
      "Epoch 5/100 - train_loss: 859.8849 - val_loss: 851.6183\n",
      "Epoch 6/100 - train_loss: 824.8975 - val_loss: 816.7026\n",
      "Epoch 7/100 - train_loss: 791.0014 - val_loss: 782.8852\n",
      "Epoch 8/100 - train_loss: 758.1762 - val_loss: 750.1449\n",
      "Epoch 9/100 - train_loss: 726.4012 - val_loss: 718.4601\n",
      "Epoch 10/100 - train_loss: 695.6548 - val_loss: 687.8093\n",
      "Epoch 11/100 - train_loss: 665.9161 - val_loss: 658.1709\n",
      "Epoch 12/100 - train_loss: 637.1638 - val_loss: 629.5235\n",
      "Epoch 13/100 - train_loss: 609.3768 - val_loss: 601.8455\n",
      "Epoch 14/100 - train_loss: 582.5342 - val_loss: 575.1159\n",
      "Epoch 15/100 - train_loss: 556.6151 - val_loss: 549.3134\n",
      "Epoch 16/100 - train_loss: 531.5988 - val_loss: 524.4171\n",
      "Epoch 17/100 - train_loss: 507.4648 - val_loss: 500.4062\n",
      "Epoch 18/100 - train_loss: 484.1928 - val_loss: 477.2602\n",
      "Epoch 19/100 - train_loss: 461.7625 - val_loss: 454.9585\n",
      "Epoch 20/100 - train_loss: 440.1540 - val_loss: 433.4811\n",
      "Epoch 21/100 - train_loss: 419.3475 - val_loss: 412.8077\n",
      "Epoch 22/100 - train_loss: 399.3232 - val_loss: 392.9186\n",
      "Epoch 23/100 - train_loss: 380.0618 - val_loss: 373.7938\n",
      "Epoch 24/100 - train_loss: 361.5439 - val_loss: 355.4141\n",
      "Epoch 25/100 - train_loss: 343.7503 - val_loss: 337.7600\n",
      "Epoch 26/100 - train_loss: 326.6622 - val_loss: 320.8124\n",
      "Epoch 27/100 - train_loss: 310.2610 - val_loss: 304.5524\n",
      "Epoch 28/100 - train_loss: 294.5280 - val_loss: 288.9612\n",
      "Epoch 29/100 - train_loss: 279.4449 - val_loss: 274.0204\n",
      "Epoch 30/100 - train_loss: 264.9935 - val_loss: 259.7114\n",
      "Epoch 31/100 - train_loss: 251.1560 - val_loss: 246.0162\n",
      "Epoch 32/100 - train_loss: 237.9144 - val_loss: 232.9169\n",
      "Epoch 33/100 - train_loss: 225.2514 - val_loss: 220.3958\n",
      "Epoch 34/100 - train_loss: 213.1496 - val_loss: 208.4352\n",
      "Epoch 35/100 - train_loss: 201.5918 - val_loss: 197.0179\n",
      "Epoch 36/100 - train_loss: 190.5611 - val_loss: 186.1269\n",
      "Epoch 37/100 - train_loss: 180.0409 - val_loss: 175.7453\n",
      "Epoch 38/100 - train_loss: 170.0147 - val_loss: 165.8564\n",
      "Epoch 39/100 - train_loss: 160.4662 - val_loss: 156.4438\n",
      "Epoch 40/100 - train_loss: 151.3794 - val_loss: 147.4915\n",
      "Epoch 41/100 - train_loss: 142.7385 - val_loss: 138.9834\n",
      "Epoch 42/100 - train_loss: 134.5280 - val_loss: 130.9037\n",
      "Epoch 43/100 - train_loss: 126.7325 - val_loss: 123.2374\n",
      "Epoch 44/100 - train_loss: 119.3372 - val_loss: 115.9691\n",
      "Epoch 45/100 - train_loss: 112.3270 - val_loss: 109.0838\n",
      "Epoch 46/100 - train_loss: 105.6875 - val_loss: 102.5671\n",
      "Epoch 47/100 - train_loss: 99.4044 - val_loss: 96.4043\n",
      "Epoch 48/100 - train_loss: 93.4638 - val_loss: 90.5816\n",
      "Epoch 49/100 - train_loss: 87.8518 - val_loss: 85.0850\n",
      "Epoch 50/100 - train_loss: 82.5550 - val_loss: 79.9009\n",
      "Epoch 51/100 - train_loss: 77.5602 - val_loss: 75.0163\n",
      "Epoch 52/100 - train_loss: 72.8545 - val_loss: 70.4181\n",
      "Epoch 53/100 - train_loss: 68.4253 - val_loss: 66.0936\n",
      "Epoch 54/100 - train_loss: 64.2604 - val_loss: 62.0305\n",
      "Epoch 55/100 - train_loss: 60.3477 - val_loss: 58.2169\n",
      "Epoch 56/100 - train_loss: 56.6755 - val_loss: 54.6408\n",
      "Epoch 57/100 - train_loss: 53.2323 - val_loss: 51.2909\n",
      "Epoch 58/100 - train_loss: 50.0072 - val_loss: 48.1561\n",
      "Epoch 59/100 - train_loss: 46.9893 - val_loss: 45.2256\n",
      "Epoch 60/100 - train_loss: 44.1681 - val_loss: 42.4889\n",
      "Epoch 61/100 - train_loss: 41.5336 - val_loss: 39.9359\n",
      "Epoch 62/100 - train_loss: 39.0757 - val_loss: 37.5568\n",
      "Epoch 63/100 - train_loss: 36.7852 - val_loss: 35.3420\n",
      "Epoch 64/100 - train_loss: 34.6527 - val_loss: 33.2824\n",
      "Epoch 65/100 - train_loss: 32.6694 - val_loss: 31.3692\n",
      "Epoch 66/100 - train_loss: 30.8267 - val_loss: 29.5937\n",
      "Epoch 67/100 - train_loss: 29.1164 - val_loss: 27.9479\n",
      "Epoch 68/100 - train_loss: 27.5306 - val_loss: 26.4238\n",
      "Epoch 69/100 - train_loss: 26.0616 - val_loss: 25.0139\n",
      "Epoch 70/100 - train_loss: 24.7022 - val_loss: 23.7110\n",
      "Epoch 71/100 - train_loss: 23.4454 - val_loss: 22.5081\n",
      "Epoch 72/100 - train_loss: 22.2845 - val_loss: 21.3986\n",
      "Epoch 73/100 - train_loss: 21.2132 - val_loss: 20.3762\n",
      "Epoch 74/100 - train_loss: 20.2253 - val_loss: 19.4350\n",
      "Epoch 75/100 - train_loss: 19.3152 - val_loss: 18.5691\n",
      "Epoch 76/100 - train_loss: 18.4773 - val_loss: 17.7732\n",
      "Epoch 77/100 - train_loss: 17.7064 - val_loss: 17.0422\n",
      "Epoch 78/100 - train_loss: 16.9975 - val_loss: 16.3711\n",
      "Epoch 79/100 - train_loss: 16.3461 - val_loss: 15.7554\n",
      "Epoch 80/100 - train_loss: 15.7478 - val_loss: 15.1909\n",
      "Epoch 81/100 - train_loss: 15.1983 - val_loss: 14.6733\n",
      "Epoch 82/100 - train_loss: 14.6937 - val_loss: 14.1989\n",
      "Epoch 83/100 - train_loss: 14.2305 - val_loss: 13.7641\n",
      "Epoch 84/100 - train_loss: 13.8052 - val_loss: 13.3656\n",
      "Epoch 85/100 - train_loss: 13.4145 - val_loss: 13.0002\n",
      "Epoch 86/100 - train_loss: 13.0556 - val_loss: 12.6649\n",
      "Epoch 87/100 - train_loss: 12.7255 - val_loss: 12.3572\n",
      "Epoch 88/100 - train_loss: 12.4217 - val_loss: 12.0744\n",
      "Epoch 89/100 - train_loss: 12.1419 - val_loss: 11.8142\n",
      "Epoch 90/100 - train_loss: 11.8837 - val_loss: 11.5745\n",
      "Epoch 91/100 - train_loss: 11.6451 - val_loss: 11.3532\n",
      "Epoch 92/100 - train_loss: 11.4242 - val_loss: 11.1485\n",
      "Epoch 93/100 - train_loss: 11.2192 - val_loss: 10.9588\n",
      "Epoch 94/100 - train_loss: 11.0286 - val_loss: 10.7824\n",
      "Epoch 95/100 - train_loss: 10.8509 - val_loss: 10.6180\n",
      "Epoch 96/100 - train_loss: 10.6847 - val_loss: 10.4643\n",
      "Epoch 97/100 - train_loss: 10.5287 - val_loss: 10.3200\n",
      "Epoch 98/100 - train_loss: 10.3819 - val_loss: 10.1842\n",
      "Epoch 99/100 - train_loss: 10.2433 - val_loss: 10.0558\n",
      "Epoch 100/100 - train_loss: 10.1119 - val_loss: 9.9340\n"
     ]
    }
   ],
   "source": [
    "X = torch.tensor(X, dtype=torch.float32)\n",
    "y = torch.tensor(y, dtype=torch.float32).reshape(-1, 1)\n",
    "\n",
    "history =trainer.train((X, y), split_val=True, epochs=100, batch_size=32)"
   ]
  },
  {
   "cell_type": "code",
   "execution_count": 25,
   "metadata": {},
   "outputs": [
    {
     "data": {
      "image/png": "[encoded data removed]",
      "text/plain": [
       "<Figure size 1000x600 with 1 Axes>"
      ]
     },
     "metadata": {},
     "output_type": "display_data"
    },
    {
     "data": {
      "text/plain": [
       "<Figure size 640x480 with 0 Axes>"
      ]
     },
     "execution_count": 25,
     "metadata": {},
     "output_type": "execute_result"
    },
    {
     "data": {
      "text/plain": [
       "<Figure size 640x480 with 0 Axes>"
      ]
     },
     "metadata": {},
     "output_type": "display_data"
    }
   ],
   "source": [
    "from gamma import plot\n",
    "\n",
    "plot.plot_training_loss(history)"
   ]
  }
 ],
 "metadata": {
  "kernelspec": {
   "display_name": "Python 3",
   "language": "python",
   "name": "python3"
  },
  "language_info": {
   "codemirror_mode": {
    "name": "ipython",
    "version": 3
   },
   "file_extension": ".py",
   "mimetype": "text/x-python",
   "name": "python",
   "nbconvert_exporter": "python",
   "pygments_lexer": "ipython3",
   "version": "3.12.9"
  }
 },
 "nbformat": 4,
 "nbformat_minor": 2
}
