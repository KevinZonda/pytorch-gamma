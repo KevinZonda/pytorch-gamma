{
 "cells": [
  {
   "cell_type": "code",
   "execution_count": 1,
   "metadata": {},
   "outputs": [],
   "source": [
    "from gamma.Modules import *"
   ]
  },
  {
   "cell_type": "code",
   "execution_count": 2,
   "metadata": {},
   "outputs": [],
   "source": [
    "model = ruby_pipeline(\n",
    "    fork(),                                      # x           -> [x, x]\n",
    "    [ Id(), seq(shape_transform_1d(1, 10)) ],    # [x, x]      -> [x, x']\n",
    "    fst(lambda x: x * 2),                        # [x, x']     -> [x * 2, x']\n",
    "    [activation(\"relu\"), activation(\"sigmoid\")], # [x * 2, x'] -> [relu(x * 2), sigmoid(x')]\n",
    "    pick_at(0),                                  # [relu(x * 2), sigmoid(x')] -> relu(x * 2)\n",
    ")"
   ]
  },
  {
   "cell_type": "code",
   "execution_count": 3,
   "metadata": {},
   "outputs": [
    {
     "data": {
      "text/plain": [
       "Sequential(\n",
       "  (0): fork()\n",
       "  (1): parallel(\n",
       "    (modules): ModuleList(\n",
       "      (0): Identity()\n",
       "      (1): Sequential(\n",
       "        (0): Linear(in_features=1, out_features=10, bias=True)\n",
       "      )\n",
       "    )\n",
       "  )\n",
       "  (2): fst()\n",
       "  (3): parallel(\n",
       "    (modules): ModuleList(\n",
       "      (0): ReLU()\n",
       "      (1): Sigmoid()\n",
       "    )\n",
       "  )\n",
       "  (4): pick_at()\n",
       ")"
      ]
     },
     "execution_count": 3,
     "metadata": {},
     "output_type": "execute_result"
    }
   ],
   "source": [
    "model"
   ]
  }
 ],
 "metadata": {
  "kernelspec": {
   "display_name": "Python 3",
   "language": "python",
   "name": "python3"
  },
  "language_info": {
   "codemirror_mode": {
    "name": "ipython",
    "version": 3
   },
   "file_extension": ".py",
   "mimetype": "text/x-python",
   "name": "python",
   "nbconvert_exporter": "python",
   "pygments_lexer": "ipython3",
   "version": "3.12.9"
  }
 },
 "nbformat": 4,
 "nbformat_minor": 2
}
